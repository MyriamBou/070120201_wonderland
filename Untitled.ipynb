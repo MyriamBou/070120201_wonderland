{
 "cells": [
  {
   "cell_type": "code",
   "execution_count": null,
   "metadata": {},
   "outputs": [],
   "source": [
    "#Brief"
   ]
  },
  {
   "cell_type": "markdown",
   "metadata": {},
   "source": [
    "Le but de ce projet est de créer un code python qui va générer aléatoirement des grilles de labyrinthe, qui va être capable de trouver la solution de celles-ci, si elle existe (eh oui, il se peut qu'un labyrinthe soit insoluble!), et qui pourra afficher tout ça sous la forme d’une image !\n",
    "\n",
    "On a appris à parcourir un arbre, en choisissant par exemple d’aller à droite lorsque plusieurs bifurcations se présentent, et en faisant demi-tour lorsqu’on atteint une feuille de l’arbre. Pour résoudre un labyrinthe, l’approche est similaire. Pour cela considérons un objet mobile en forme de carré, caractérisé par sa position (x, y) et dirigé dans une certaine direction, celle qu’il a devant lui. A partir de cette direction, l’objet mobile peut soit garder cette direction, soit faire un quart de tour à droite, soit faire un quart de tour à gauche, soit faire demi-tour. Pour respecter les conditions de l’exploration, il va privilégier de tourner à droite, mais s’il tombe sur un mur, il choisira d’aller devant, et s’il tombe encore sur un mur, il ira à gauche. Enfin, s’il tombe sur un cul-de-sac, il fera demi-tour.\n",
    "\n",
    "Critères de performance\n",
    "\n",
    "L'algorithme de résolution du labyrinthe devra proposer comme solution le chemin le plus court. Le temps d'exécution de l'algorithme est un critère important.\n",
    "\n",
    "Modalités d'évaluation\n",
    "\n",
    "Le code devra être fonctionnel et structuré selon les standards de la programmation objet. Les méthodes proposées dans votre application devront être commentées. L'implémentation de tests unitaires est un plus.\n"
   ]
  },
  {
   "cell_type": "code",
   "execution_count": null,
   "metadata": {},
   "outputs": [],
   "source": [
    "# code background tuto 1: https://www.youtube.com/watch?v=Xthh4SEMA2o"
   ]
  },
  {
   "cell_type": "code",
   "execution_count": 4,
   "metadata": {},
   "outputs": [
    {
     "name": "stdout",
     "output_type": "stream",
     "text": [
      "pygame 2.0.1 (SDL 2.0.14, Python 3.7.9)\n",
      "Hello from the pygame community. https://www.pygame.org/contribute.html\n"
     ]
    }
   ],
   "source": [
    "###################################\n",
    "# Python maze generator program\n",
    "# using PyGame for animation\n",
    "# Davis MT\n",
    "# Python 3.4\n",
    "# 10.02.2018\n",
    "###################################\n",
    "\n",
    "import pygame\n",
    "import time\n",
    "import random"
   ]
  },
  {
   "cell_type": "code",
   "execution_count": 5,
   "metadata": {},
   "outputs": [
    {
     "name": "stdout",
     "output_type": "stream",
     "text": [
      "\n"
     ]
    }
   ],
   "source": [
    "# set up pygame window\n",
    "WIDTH = 500\n",
    "HEIGHT = 600\n",
    "FPS = 30  #FPS or frame per second or frame rate can be defined as number of frames displayed per second. \n",
    "print()"
   ]
  },
  {
   "cell_type": "code",
   "execution_count": 6,
   "metadata": {},
   "outputs": [
    {
     "name": "stdout",
     "output_type": "stream",
     "text": [
      "\n"
     ]
    }
   ],
   "source": [
    "# Define colours\n",
    "WHITE = (255, 255, 255)\n",
    "GREEN = (0, 255, 0,)\n",
    "BLUE = (0, 0, 255)\n",
    "YELLOW = (255 ,255 ,0)\n",
    "print()"
   ]
  },
  {
   "cell_type": "code",
   "execution_count": 7,
   "metadata": {},
   "outputs": [
    {
     "name": "stdout",
     "output_type": "stream",
     "text": [
      "\n"
     ]
    }
   ],
   "source": [
    "# initalise Pygame\n",
    "#Pygame est une bibliothèque libre multiplate-forme qui facilite le développement de jeux vidéo temps réel avec le langage de programmation Python.\n",
    "pygame.init()\n",
    "pygame.mixer.init()\n",
    "screen = pygame.display.set_mode((WIDTH, HEIGHT))\n",
    "pygame.display.set_caption(\"Python Maze Generator\")\n",
    "clock = pygame.time.Clock()\n",
    "print()"
   ]
  },
  {
   "cell_type": "code",
   "execution_count": 8,
   "metadata": {},
   "outputs": [],
   "source": [
    "# setup maze variables\n",
    "x = 0                    # x axis\n",
    "y = 0                    # y axis\n",
    "w = 20                   # width of cell\n",
    "grid = []\n",
    "visited = []\n",
    "stack = []\n",
    "solution = {}\n"
   ]
  },
  {
   "cell_type": "code",
   "execution_count": 9,
   "metadata": {},
   "outputs": [
    {
     "name": "stdout",
     "output_type": "stream",
     "text": [
      "<function build_grid at 0x7fb574f3b200>\n"
     ]
    }
   ],
   "source": [
    "# build the grid\n",
    "def build_grid(x, y, w):\n",
    "    for i in range(1,21):\n",
    "        x = 20                                                            # set x coordinate to start position\n",
    "        y = y + 20                                                        # start a new row\n",
    "        for j in range(1, 21):\n",
    "            pygame.draw.line(screen, WHITE, [x, y], [x + w, y])           # top of cell\n",
    "            pygame.draw.line(screen, WHITE, [x + w, y], [x + w, y + w])   # right of cell\n",
    "            pygame.draw.line(screen, WHITE, [x + w, y + w], [x, y + w])   # bottom of cell\n",
    "            pygame.draw.line(screen, WHITE, [x, y + w], [x, y])           # left of cell\n",
    "            grid.append((x,y))                                            # add cell to grid list\n",
    "            x = x + 20                                                    # move cell to new position\n",
    "build_grid\n",
    "print(build_grid)"
   ]
  },
  {
   "cell_type": "code",
   "execution_count": 10,
   "metadata": {},
   "outputs": [
    {
     "name": "stdout",
     "output_type": "stream",
     "text": [
      "<function push_up at 0x7fb58d04fb90>\n"
     ]
    }
   ],
   "source": [
    "def push_up(x, y):\n",
    "    pygame.draw.rect(screen, BLUE, (x + 1, y - w + 1, 19, 39), 0)         # draw a rectangle twice the width of the cell\n",
    "    pygame.display.update()                                              # to animate the wall being removed\n",
    "\n",
    "print(push_up)"
   ]
  },
  {
   "cell_type": "code",
   "execution_count": 11,
   "metadata": {},
   "outputs": [],
   "source": [
    "def push_down(x, y):\n",
    "    pygame.draw.rect(screen, BLUE, (x +  1, y + 1, 19, 39), 0)\n",
    "    pygame.display.update()\n",
    "\n",
    "\n",
    "def push_left(x, y):\n",
    "    pygame.draw.rect(screen, BLUE, (x - w +1, y +1, 39, 19), 0)\n",
    "    pygame.display.update()\n",
    "\n",
    "\n",
    "def push_right(x, y):\n",
    "    pygame.draw.rect(screen, BLUE, (x +1, y +1, 39, 19), 0)\n",
    "    pygame.display.update()\n",
    "\n",
    "\n",
    "def single_cell( x, y):\n",
    "    pygame.draw.rect(screen, GREEN, (x +1, y +1, 18, 18), 0)          # draw a single width cell\n",
    "    pygame.display.update()\n",
    "\n",
    "\n",
    "def backtracking_cell(x, y):\n",
    "    pygame.draw.rect(screen, BLUE, (x +1, y +1, 18, 18), 0)        # used to re-colour the path after single_cell\n",
    "    pygame.display.update()                                        # has visited cell\n",
    "\n",
    "\n",
    "def solution_cell(x,y):\n",
    "    pygame.draw.rect(screen, YELLOW, (x+8, y+8, 5, 5), 0)             # used to show the solution\n",
    "    pygame.display.update()                                        # has visited cell\n",
    "\n",
    "\n"
   ]
  },
  {
   "cell_type": "code",
   "execution_count": 12,
   "metadata": {},
   "outputs": [
    {
     "name": "stdout",
     "output_type": "stream",
     "text": [
      "\n"
     ]
    }
   ],
   "source": [
    "def carve_out_maze(x,y):\n",
    "    single_cell(x, y)                                              # starting positing of maze\n",
    "    stack.append((x,y))                                            # place starting cell into stack\n",
    "    visited.append((x,y))                                          # add starting cell to visited list\n",
    "    while len(stack) > 0:                                          # loop until stack is empty\n",
    "        time.sleep(.07)                                            # slow program now a bit\n",
    "        cell = []                                                  # define cell list\n",
    "        if (x + w, y) not in visited and (x + w, y) in grid:       # right cell available?\n",
    "            cell.append(\"right\")                                   # if yes add to cell list\n",
    "\n",
    "        if (x - w, y) not in visited and (x - w, y) in grid:       # left cell available?\n",
    "            cell.append(\"left\")\n",
    "\n",
    "        if (x , y + w) not in visited and (x , y + w) in grid:     # down cell available?\n",
    "            cell.append(\"down\")\n",
    "\n",
    "        if (x, y - w) not in visited and (x , y - w) in grid:      # up cell available?\n",
    "            cell.append(\"up\")\n",
    "\n",
    "        if len(cell) > 0:                                          # check to see if cell list is empty\n",
    "            cell_chosen = (random.choice(cell))                    # select one of the cell randomly\n",
    "\n",
    "            if cell_chosen == \"right\":                             # if this cell has been chosen\n",
    "                push_right(x, y)                                   # call push_right function\n",
    "                solution[(x + w, y)] = x, y                        # solution = dictionary key = new cell, other = current cell\n",
    "                x = x + w                                          # make this cell the current cell\n",
    "                visited.append((x, y))                              # add to visited list\n",
    "                stack.append((x, y))                                # place current cell on to stack\n",
    "\n",
    "            elif cell_chosen == \"left\":\n",
    "                push_left(x, y)\n",
    "                solution[(x - w, y)] = x, y\n",
    "                x = x - w\n",
    "                visited.append((x, y))\n",
    "                stack.append((x, y))\n",
    "\n",
    "            elif cell_chosen == \"down\":\n",
    "                push_down(x, y)\n",
    "                solution[(x , y + w)] = x, y\n",
    "                y = y + w\n",
    "                visited.append((x, y))\n",
    "                stack.append((x, y))\n",
    "\n",
    "            elif cell_chosen == \"up\":\n",
    "                push_up(x, y)\n",
    "                solution[(x , y - w)] = x, y\n",
    "                y = y - w\n",
    "                visited.append((x, y))\n",
    "                stack.append((x, y))\n",
    "        else:\n",
    "            x, y = stack.pop()                                    # if no cells are available pop one from the stack\n",
    "            single_cell(x, y)                                     # use single_cell function to show backtracking image\n",
    "            time.sleep(.05)                                       # slow program down a bit\n",
    "            backtracking_cell(x, y)                               # change colour to green to identify backtracking path\n",
    "\n",
    "print()"
   ]
  },
  {
   "cell_type": "code",
   "execution_count": 13,
   "metadata": {},
   "outputs": [],
   "source": [
    "\n",
    "def plot_route_back(x,y):\n",
    "    solution_cell(x, y)                                          # solution list contains all the coordinates to route back to start\n",
    "    while (x, y) != (20,20):                                     # loop until cell position == start position\n",
    "        x, y = solution[x, y]                                    # \"key value\" now becomes the new key\n",
    "        solution_cell(x, y)                                      # animate route back\n",
    "        time.sleep(.1)\n",
    "\n",
    "\n"
   ]
  },
  {
   "cell_type": "code",
   "execution_count": 25,
   "metadata": {},
   "outputs": [],
   "source": [
    "#maze generation\n",
    "x, y = 20, 20                     # starting position of grid\n",
    "build_grid(40, 0, 20)             # 1st argument = x value, 2nd argument = y value, 3rd argument = width of cell\n",
    "carve_out_maze(x,y)               # call build the maze  function\n",
    "\n"
   ]
  },
  {
   "cell_type": "code",
   "execution_count": 24,
   "metadata": {},
   "outputs": [],
   "source": [
    "#path generation\n",
    "plot_route_back(400, 400)         # call the plot solution function"
   ]
  },
  {
   "cell_type": "code",
   "execution_count": 22,
   "metadata": {},
   "outputs": [],
   "source": [
    "# je ne comprends pas l'utilité de cette partie de code, l'algo marche bien sans\n",
    "# ##### pygame loop #######\n",
    "running = True\n",
    "while running:\n",
    "    # keep running at the at the right speed\n",
    "    clock.tick(FPS)\n",
    "    # process input (events)\n",
    "    for event in pygame.event.get():\n",
    "        # check for closing the window\n",
    "        if event.type == pygame.QUIT:\n",
    "            running = False"
   ]
  },
  {
   "cell_type": "code",
   "execution_count": null,
   "metadata": {},
   "outputs": [],
   "source": []
  },
  {
   "cell_type": "code",
   "execution_count": null,
   "metadata": {},
   "outputs": [],
   "source": []
  },
  {
   "cell_type": "code",
   "execution_count": null,
   "metadata": {},
   "outputs": [],
   "source": []
  },
  {
   "cell_type": "code",
   "execution_count": null,
   "metadata": {},
   "outputs": [],
   "source": []
  },
  {
   "cell_type": "code",
   "execution_count": null,
   "metadata": {},
   "outputs": [],
   "source": []
  },
  {
   "cell_type": "code",
   "execution_count": null,
   "metadata": {},
   "outputs": [],
   "source": []
  },
  {
   "cell_type": "code",
   "execution_count": null,
   "metadata": {},
   "outputs": [],
   "source": [
    "# code tuto 2 : https://scipython.com/blog/making-a-maze/"
   ]
  },
  {
   "cell_type": "code",
   "execution_count": null,
   "metadata": {},
   "outputs": [],
   "source": [
    "Classes vont générer et résoudre le labyrinthe avec des fonctions\n",
    "Commenté : ce que font les fonctions"
   ]
  },
  {
   "cell_type": "markdown",
   "metadata": {},
   "source": [
    "tarting from a given cell, we will aim to produce a path visiting each cell according to the following procedure:\n",
    "\n",
    "    Inspect the neighbouring cells. If any of them have yet to be visited, pick one and move at random into it by removing the wall between them.\n",
    "\n",
    "    If no neighbouring cell is unvisited (a dead end), then backtrack to the last cell with an unvisited neighbour.\n",
    "\n",
    "we define classes for the cell and for the entire maze. \n",
    "We wind our way through the grid of cells at random, keeping track of the path we take on a stack implemented as a Python list. \n",
    "If we end up in a dead end, we simply pop visited cells off the stack until we find one with unvisited neighbours."
   ]
  },
  {
   "cell_type": "code",
   "execution_count": 42,
   "metadata": {},
   "outputs": [
    {
     "name": "stdout",
     "output_type": "stream",
     "text": [
      "------------------------------\n",
      "|   |         |   |           |\n",
      "|-+ +-+-+-+ + + + + + +-+-+-+-+\n",
      "| |         | | | | |         |\n",
      "| +-+-+-+-+-+ +-+ + +-+-+-+-+ +\n",
      "|     |     |   |           | |\n",
      "|-+ + + +-+-+-+ +-+-+ +-+-+-+ +\n",
      "|   | | |     |   |   |       |\n",
      "| +-+ + + +-+ +-+ + +-+ +-+-+ +\n",
      "| |     |   |   | | | | |     |\n",
      "| +-+-+-+-+ +-+ + + + + +-+-+ +\n",
      "|         |   |   |   |     | |\n",
      "| +-+-+-+ +-+ +-+-+-+ +-+-+ + +\n",
      "| |     | |   |     | | |   | |\n",
      "| +-+ + + + +-+-+-+ + + + +-+ +\n",
      "|   | | | |   |     | | |   | |\n",
      "|-+ +-+ + +-+ + +-+-+ + +-+ + +\n",
      "| |     |   | |   |   |   | | |\n",
      "| +-+-+ +-+ + + + + +-+ + + + +\n",
      "|   |   | | | | |   |   | | | |\n",
      "| + + +-+ + + + +-+-+ + + + +-+\n",
      "| | |   | | | |     | | | |   |\n",
      "| + +-+ + + + +-+-+ +-+ + +-+ +\n",
      "| |   |   | |   | |     | |   |\n",
      "| +-+ + +-+ +-+ + +-+-+-+ + + +\n",
      "|   |   |     | | |   |   | | |\n",
      "|-+ +-+-+ +-+-+ + + + + +-+ + +\n",
      "| |   | | |     |   |   |   | |\n",
      "| +-+ + + + +-+-+-+-+-+-+ +-+ +\n",
      "|       |                 |   |\n",
      "|-+-+-+-+-+-+-+-+-+-+-+-+-+-+-+\n"
     ]
    }
   ],
   "source": [
    "# df_maze.py\n",
    "import random\n",
    "\n",
    "# Create a maze using the depth-first algorithm described at\n",
    "# https://scipython.com/blog/making-a-maze/\n",
    "# Christian Hill, April 2017.\n",
    "\n",
    "class Cell:\n",
    "    \"\"\"A cell in the maze.\n",
    "    A maze \"Cell\" is a point in the grid which may be surrounded by walls to\n",
    "    the north, east, south or west.\n",
    "    \"\"\"\n",
    "\n",
    "    # A wall separates a pair of cells in the N-S or W-E directions.\n",
    "    wall_pairs = {'N': 'S', 'S': 'N', 'E': 'W', 'W': 'E'}\n",
    "\n",
    "    def __init__(self, x, y):\n",
    "        \"\"\"Initialize the cell at (x,y). At first it is surrounded by walls.\"\"\"\n",
    "\n",
    "        self.x, self.y = x, y\n",
    "        self.walls = {'N': True, 'S': True, 'E': True, 'W': True}\n",
    "\n",
    "    def has_all_walls(self):\n",
    "        \"\"\"Does this cell still have all its walls?\"\"\"\n",
    "\n",
    "        return all(self.walls.values())\n",
    "\n",
    "    def knock_down_wall(self, other, wall):\n",
    "        \"\"\"Knock down the wall between cells self and other.\"\"\"\n",
    "\n",
    "        self.walls[wall] = False\n",
    "        other.walls[Cell.wall_pairs[wall]] = False\n",
    "\n",
    "class Maze:\n",
    "    \"\"\"A Maze, represented as a grid of cells.\"\"\"\n",
    "\n",
    "    def __init__(self, nx, ny, ix=0, iy=0):\n",
    "        \"\"\"Initialize the maze grid.\n",
    "        The maze consists of nx x ny cells and will be constructed starting\n",
    "        at the cell indexed at (ix, iy).\n",
    "        \"\"\"\n",
    "\n",
    "        self.nx, self.ny = nx, ny\n",
    "        self.ix, self.iy = ix, iy\n",
    "        self.maze_map = [[Cell(x, y) for y in range(ny)] for x in range(nx)]\n",
    "\n",
    "    def cell_at(self, x, y):\n",
    "        \"\"\"Return the Cell object at (x,y).\"\"\"\n",
    "\n",
    "        return self.maze_map[x][y]\n",
    "\n",
    "    def __str__(self):\n",
    "        \"\"\"Return a (crude) string representation of the maze.\"\"\"\n",
    "\n",
    "        maze_rows = ['-' * nx*2]\n",
    "        for y in range(ny):\n",
    "            maze_row = ['|']\n",
    "            for x in range(nx):\n",
    "                if self.maze_map[x][y].walls['E']:\n",
    "                    maze_row.append(' |')\n",
    "                else:\n",
    "                    maze_row.append('  ')\n",
    "            maze_rows.append(''.join(maze_row))\n",
    "            maze_row = ['|']\n",
    "            for x in range(nx):\n",
    "                if self.maze_map[x][y].walls['S']:\n",
    "                    maze_row.append('-+')\n",
    "                else:\n",
    "                    maze_row.append(' +')\n",
    "            maze_rows.append(''.join(maze_row))\n",
    "        return '\\n'.join(maze_rows)\n",
    "\n",
    "    def write_svg(self, filename):\n",
    "        \"\"\"Write an SVG image of the maze to filename.\"\"\"\n",
    "\n",
    "        aspect_ratio = self.nx / self.ny\n",
    "        # Pad the maze all around by this amount.\n",
    "        padding = 10\n",
    "        # Height and width of the maze image (excluding padding), in pixels\n",
    "        height = 500\n",
    "        width = int(height * aspect_ratio)\n",
    "        # Scaling factors mapping maze coordinates to image coordinates\n",
    "        scy, scx = height / ny, width / nx\n",
    "\n",
    "        def write_wall(f, x1, y1, x2, y2):\n",
    "            \"\"\"Write a single wall to the SVG image file handle f.\"\"\"\n",
    "\n",
    "            print('<line x1=\"{}\" y1=\"{}\" x2=\"{}\" y2=\"{}\"/>'\n",
    "                                .format(x1, y1, x2, y2), file=f)\n",
    "\n",
    "        # Write the SVG image file for maze\n",
    "        with open(filename, 'w') as f:\n",
    "            # SVG preamble and styles.\n",
    "            print('<?xml version=\"1.0\" encoding=\"utf-8\"?>', file=f)\n",
    "            print('<svg xmlns=\"http://www.w3.org/2000/svg\"', file=f)\n",
    "            print('    xmlns:xlink=\"http://www.w3.org/1999/xlink\"', file=f)\n",
    "            print('    width=\"{:d}\" height=\"{:d}\" viewBox=\"{} {} {} {}\">'\n",
    "                    .format(width+2*padding, height+2*padding,\n",
    "                        -padding, -padding, width+2*padding, height+2*padding),\n",
    "                  file=f)\n",
    "            print('<defs>\\n<style type=\"text/css\"><![CDATA[', file=f)\n",
    "            print('line {', file=f)\n",
    "            print('    stroke: #000000;\\n    stroke-linecap: square;', file=f)\n",
    "            print('    stroke-width: 5;\\n}', file=f)\n",
    "            print(']]></style>\\n</defs>', file=f)\n",
    "            # Draw the \"South\" and \"East\" walls of each cell, if present (these\n",
    "            # are the \"North\" and \"West\" walls of a neighbouring cell in\n",
    "            # general, of course).\n",
    "            for x in range(nx):\n",
    "                for y in range(ny):\n",
    "                    if maze.cell_at(x,y).walls['S']:\n",
    "                        x1, y1, x2, y2 = x*scx, (y+1)*scy, (x+1)*scx, (y+1)*scy\n",
    "                        write_wall(f, x1, y1, x2, y2)\n",
    "                    if maze.cell_at(x,y).walls['E']:\n",
    "                        x1, y1, x2, y2 = (x+1)*scx, y*scy, (x+1)*scx, (y+1)*scy\n",
    "                        write_wall(f, x1, y1, x2, y2)\n",
    "            # Draw the North and West maze border, which won't have been drawn\n",
    "            # by the procedure above. \n",
    "            print('<line x1=\"0\" y1=\"0\" x2=\"{}\" y2=\"0\"/>'.format(width), file=f)\n",
    "            print('<line x1=\"0\" y1=\"0\" x2=\"0\" y2=\"{}\"/>'.format(height),file=f)\n",
    "            print('</svg>', file=f)\n",
    "\n",
    "    def find_valid_neighbours(self, cell):\n",
    "        \"\"\"Return a list of unvisited neighbours to cell.\"\"\"\n",
    "\n",
    "        delta = [('W', (-1,0)),\n",
    "                 ('E', (1,0)),\n",
    "                 ('S', (0,1)),\n",
    "                 ('N', (0,-1))]\n",
    "        neighbours = []\n",
    "        for direction, (dx,dy) in delta:\n",
    "            x2, y2 = cell.x + dx, cell.y + dy\n",
    "            if (0 <= x2 < nx) and (0 <= y2 < ny):\n",
    "                neighbour = maze.cell_at(x2, y2)\n",
    "                if neighbour.has_all_walls():\n",
    "                    neighbours.append((direction, neighbour))\n",
    "        return neighbours\n",
    "\n",
    "    def make_maze(self):\n",
    "        # Total number of cells.\n",
    "        n = self.nx * self.ny\n",
    "        cell_stack = []\n",
    "        current_cell = self.cell_at(ix, iy)\n",
    "        # Total number of visited cells during maze construction.\n",
    "        nv = 1\n",
    "\n",
    "        while nv < n:\n",
    "            neighbours = self.find_valid_neighbours(current_cell)\n",
    "\n",
    "            if not neighbours:\n",
    "                # We've reached a dead end: backtrack.\n",
    "                current_cell = cell_stack.pop()\n",
    "                continue\n",
    "\n",
    "            # Choose a random neighbouring cell and move to it.\n",
    "            direction, next_cell = random.choice(neighbours)\n",
    "            current_cell.knock_down_wall(next_cell, direction)\n",
    "            cell_stack.append(current_cell)\n",
    "            current_cell = next_cell\n",
    "            nv += 1\n",
    "\n",
    "# Maze dimensions (ncols, nrows)\n",
    "nx, ny = 15, 15\n",
    "# Maze entry position\n",
    "ix, iy = 0, 0\n",
    "\n",
    "maze = Maze(nx, ny, ix, iy)\n",
    "maze.make_maze()\n",
    "\n",
    "print(maze)\n",
    "maze.write_svg('maze.svg')"
   ]
  },
  {
   "cell_type": "code",
   "execution_count": null,
   "metadata": {},
   "outputs": [],
   "source": []
  }
 ],
 "metadata": {
  "kernelspec": {
   "display_name": "Python 3",
   "language": "python",
   "name": "python3"
  },
  "language_info": {
   "codemirror_mode": {
    "name": "ipython",
    "version": 3
   },
   "file_extension": ".py",
   "mimetype": "text/x-python",
   "name": "python",
   "nbconvert_exporter": "python",
   "pygments_lexer": "ipython3",
   "version": "3.7.9"
  }
 },
 "nbformat": 4,
 "nbformat_minor": 4
}
